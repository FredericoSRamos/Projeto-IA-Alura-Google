{
  "nbformat": 4,
  "nbformat_minor": 0,
  "metadata": {
    "colab": {
      "provenance": [],
      "authorship_tag": "ABX9TyOMl4jze1mhNIyJT2XrO1Yg",
      "include_colab_link": true
    },
    "kernelspec": {
      "name": "python3",
      "display_name": "Python 3"
    },
    "language_info": {
      "name": "python"
    }
  },
  "cells": [
    {
      "cell_type": "markdown",
      "metadata": {
        "id": "view-in-github",
        "colab_type": "text"
      },
      "source": [
        "<a href=\"https://colab.research.google.com/github/FredericoSRamos/Projeto-IA-Alura-Google/blob/main/Projeto.ipynb\" target=\"_parent\"><img src=\"https://colab.research.google.com/assets/colab-badge.svg\" alt=\"Open In Colab\"/></a>"
      ]
    },
    {
      "cell_type": "code",
      "execution_count": 73,
      "metadata": {
        "colab": {
          "base_uri": "https://localhost:8080/",
          "height": 356
        },
        "id": "kCPhgr-JDlTW",
        "outputId": "969de9c3-99f9-4bb7-b70c-996475c986e7"
      },
      "outputs": [
        {
          "output_type": "error",
          "ename": "KeyboardInterrupt",
          "evalue": "",
          "traceback": [
            "\u001b[0;31m---------------------------------------------------------------------------\u001b[0m",
            "\u001b[0;31mKeyboardInterrupt\u001b[0m                         Traceback (most recent call last)",
            "\u001b[0;32m<ipython-input-73-f53b103f75a7>\u001b[0m in \u001b[0;36m<cell line: 13>\u001b[0;34m()\u001b[0m\n\u001b[1;32m     11\u001b[0m \u001b[0;32mfrom\u001b[0m \u001b[0mgoogle\u001b[0m\u001b[0;34m.\u001b[0m\u001b[0mcolab\u001b[0m \u001b[0;32mimport\u001b[0m \u001b[0muserdata\u001b[0m\u001b[0;34m\u001b[0m\u001b[0;34m\u001b[0m\u001b[0m\n\u001b[1;32m     12\u001b[0m \u001b[0;34m\u001b[0m\u001b[0m\n\u001b[0;32m---> 13\u001b[0;31m \u001b[0mgenai\u001b[0m\u001b[0;34m.\u001b[0m\u001b[0mconfigure\u001b[0m \u001b[0;34m(\u001b[0m\u001b[0mapi_key\u001b[0m \u001b[0;34m=\u001b[0m \u001b[0muserdata\u001b[0m\u001b[0;34m.\u001b[0m\u001b[0mget\u001b[0m \u001b[0;34m(\u001b[0m\u001b[0;34m\"SECRET-API-KEY\"\u001b[0m\u001b[0;34m)\u001b[0m\u001b[0;34m)\u001b[0m \u001b[0;31m#Substituir pela própria API do Google AI Studio\u001b[0m\u001b[0;34m\u001b[0m\u001b[0;34m\u001b[0m\u001b[0m\n\u001b[0m\u001b[1;32m     14\u001b[0m \u001b[0;34m\u001b[0m\u001b[0m\n\u001b[1;32m     15\u001b[0m \u001b[0maai\u001b[0m\u001b[0;34m.\u001b[0m\u001b[0msettings\u001b[0m\u001b[0;34m.\u001b[0m\u001b[0mapi_key\u001b[0m \u001b[0;34m=\u001b[0m \u001b[0muserdata\u001b[0m\u001b[0;34m.\u001b[0m\u001b[0mget\u001b[0m \u001b[0;34m(\u001b[0m\u001b[0;34m\"AAI-API-KEY\"\u001b[0m\u001b[0;34m)\u001b[0m \u001b[0;31m#Substituir pela própria API do Assembly AI\u001b[0m\u001b[0;34m\u001b[0m\u001b[0;34m\u001b[0m\u001b[0m\n",
            "\u001b[0;32m/usr/local/lib/python3.10/dist-packages/google/colab/userdata.py\u001b[0m in \u001b[0;36mget\u001b[0;34m(key)\u001b[0m\n\u001b[1;32m     47\u001b[0m   \u001b[0;31m# thread-safe.\u001b[0m\u001b[0;34m\u001b[0m\u001b[0;34m\u001b[0m\u001b[0m\n\u001b[1;32m     48\u001b[0m   \u001b[0;32mwith\u001b[0m \u001b[0m_userdata_lock\u001b[0m\u001b[0;34m:\u001b[0m\u001b[0;34m\u001b[0m\u001b[0;34m\u001b[0m\u001b[0m\n\u001b[0;32m---> 49\u001b[0;31m     resp = _message.blocking_request(\n\u001b[0m\u001b[1;32m     50\u001b[0m         \u001b[0;34m'GetSecret'\u001b[0m\u001b[0;34m,\u001b[0m \u001b[0mrequest\u001b[0m\u001b[0;34m=\u001b[0m\u001b[0;34m{\u001b[0m\u001b[0;34m'key'\u001b[0m\u001b[0;34m:\u001b[0m \u001b[0mkey\u001b[0m\u001b[0;34m}\u001b[0m\u001b[0;34m,\u001b[0m \u001b[0mtimeout_sec\u001b[0m\u001b[0;34m=\u001b[0m\u001b[0;32mNone\u001b[0m\u001b[0;34m\u001b[0m\u001b[0;34m\u001b[0m\u001b[0m\n\u001b[1;32m     51\u001b[0m     )\n",
            "\u001b[0;32m/usr/local/lib/python3.10/dist-packages/google/colab/_message.py\u001b[0m in \u001b[0;36mblocking_request\u001b[0;34m(request_type, request, timeout_sec, parent)\u001b[0m\n\u001b[1;32m    174\u001b[0m       \u001b[0mrequest_type\u001b[0m\u001b[0;34m,\u001b[0m \u001b[0mrequest\u001b[0m\u001b[0;34m,\u001b[0m \u001b[0mparent\u001b[0m\u001b[0;34m=\u001b[0m\u001b[0mparent\u001b[0m\u001b[0;34m,\u001b[0m \u001b[0mexpect_reply\u001b[0m\u001b[0;34m=\u001b[0m\u001b[0;32mTrue\u001b[0m\u001b[0;34m\u001b[0m\u001b[0;34m\u001b[0m\u001b[0m\n\u001b[1;32m    175\u001b[0m   )\n\u001b[0;32m--> 176\u001b[0;31m   \u001b[0;32mreturn\u001b[0m \u001b[0mread_reply_from_input\u001b[0m\u001b[0;34m(\u001b[0m\u001b[0mrequest_id\u001b[0m\u001b[0;34m,\u001b[0m \u001b[0mtimeout_sec\u001b[0m\u001b[0;34m)\u001b[0m\u001b[0;34m\u001b[0m\u001b[0;34m\u001b[0m\u001b[0m\n\u001b[0m",
            "\u001b[0;32m/usr/local/lib/python3.10/dist-packages/google/colab/_message.py\u001b[0m in \u001b[0;36mread_reply_from_input\u001b[0;34m(message_id, timeout_sec)\u001b[0m\n\u001b[1;32m     94\u001b[0m     \u001b[0mreply\u001b[0m \u001b[0;34m=\u001b[0m \u001b[0m_read_next_input_message\u001b[0m\u001b[0;34m(\u001b[0m\u001b[0;34m)\u001b[0m\u001b[0;34m\u001b[0m\u001b[0;34m\u001b[0m\u001b[0m\n\u001b[1;32m     95\u001b[0m     \u001b[0;32mif\u001b[0m \u001b[0mreply\u001b[0m \u001b[0;34m==\u001b[0m \u001b[0m_NOT_READY\u001b[0m \u001b[0;32mor\u001b[0m \u001b[0;32mnot\u001b[0m \u001b[0misinstance\u001b[0m\u001b[0;34m(\u001b[0m\u001b[0mreply\u001b[0m\u001b[0;34m,\u001b[0m \u001b[0mdict\u001b[0m\u001b[0;34m)\u001b[0m\u001b[0;34m:\u001b[0m\u001b[0;34m\u001b[0m\u001b[0;34m\u001b[0m\u001b[0m\n\u001b[0;32m---> 96\u001b[0;31m       \u001b[0mtime\u001b[0m\u001b[0;34m.\u001b[0m\u001b[0msleep\u001b[0m\u001b[0;34m(\u001b[0m\u001b[0;36m0.025\u001b[0m\u001b[0;34m)\u001b[0m\u001b[0;34m\u001b[0m\u001b[0;34m\u001b[0m\u001b[0m\n\u001b[0m\u001b[1;32m     97\u001b[0m       \u001b[0;32mcontinue\u001b[0m\u001b[0;34m\u001b[0m\u001b[0;34m\u001b[0m\u001b[0m\n\u001b[1;32m     98\u001b[0m     if (\n",
            "\u001b[0;31mKeyboardInterrupt\u001b[0m: "
          ]
        }
      ],
      "source": [
        "#!pip install -q -U google-generativeai\n",
        "#!pip install pytube\n",
        "#!pip install assemblyai\n",
        "\n",
        "import google.generativeai as genai\n",
        "import assemblyai as aai\n",
        "import pandas as pd\n",
        "import numpy as np\n",
        "\n",
        "from pytube import YouTube\n",
        "from google.colab import userdata\n",
        "\n",
        "genai.configure (api_key = userdata.get (\"SECRET-API-KEY\")) #Substituir pela própria API do Google AI Studio\n",
        "\n",
        "aai.settings.api_key = userdata.get (\"AAI-API-KEY\") #Substituir pela própria API do Assembly AI\n",
        "transcriber = aai.Transcriber (config = aai.TranscriptionConfig (language_code = \"pt\"))\n",
        "\n",
        "def download (link):\n",
        "  yt = YouTube (link)\n",
        "  audio = yt.streams.get_audio_only ()\n",
        "  return audio.download ()\n",
        "\n",
        "def transcribe_audio (file):\n",
        "  transcript = transcriber.transcribe (file)\n",
        "  return transcript.text\n",
        "\n",
        "def embed_fn (text):\n",
        "  return genai.embed_content (model = \"models/embedding-001\",\n",
        "                              content = text,\n",
        "                              task_type = \"SEMANTIC_SIMILARITY\")[\"embedding\"]\n",
        "\n",
        "def interpret_fn (text):\n",
        "  response = genai.GenerativeModel (\"models/gemini-1.5-pro-latest\").generate_content (f\"Interprete esse texto:\\n{text}\")\n",
        "  return response.text\n",
        "\n",
        "def video_relacionado (consulta, df):\n",
        "  embedding_consulta = embed_fn (consulta)\n",
        "  produtos_escalares = np.dot (np.stack (df[\"Embeddings\"]), embedding_consulta)\n",
        "  indice = np.argmax (produtos_escalares)\n",
        "  return df.iloc [indice]\n",
        "\n",
        "data = []\n",
        "\n",
        "while True:\n",
        "  link = input (\"Digite o link do vídeo (ou 'fim' para encerrar):\")\n",
        "  if link.lower () == \"fim\":\n",
        "    break\n",
        "\n",
        "  try:\n",
        "    audio_file = download (link)\n",
        "  except:\n",
        "    print (\"Um erro aconteceu ao tentar baixar esse vídeo\\n\")\n",
        "    continue\n",
        "\n",
        "  try:\n",
        "    transcript = transcribe_audio (audio_file)\n",
        "  except:\n",
        "    print (\"Um erro aconteceu ao tentar transcrever esse vídeo\\n\")\n",
        "    continue\n",
        "\n",
        "  data.append({\n",
        "              \"Titulo\": audio_file.split(\"/\")[-1].removesuffix(\".mp4\"),\n",
        "              \"Link\": link,\n",
        "              \"Transcrição\": transcript,\n",
        "              \"Interpretação\": interpret_fn (transcript),\n",
        "              \"Embeddings\": embed_fn (transcript)})\n",
        "\n",
        "df = pd.DataFrame (data)\n",
        "\n",
        "while True:\n",
        "  consulta = input (\"Digite uma entrada para consultar (ou 'fim' para encerrar):\")\n",
        "  if consulta.lower () == \"fim\":\n",
        "    break\n",
        "\n",
        "  video = video_relacionado (consulta, df)\n",
        "\n",
        "  print (\"Vídeo relacionado:\")\n",
        "  video"
      ]
    }
  ]
}