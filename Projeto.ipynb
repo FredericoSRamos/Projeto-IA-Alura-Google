{
  "nbformat": 4,
  "nbformat_minor": 0,
  "metadata": {
    "colab": {
      "provenance": [],
      "authorship_tag": "ABX9TyOMl4jze1mhNIyJT2XrO1Yg",
      "include_colab_link": true
    },
    "kernelspec": {
      "name": "python3",
      "display_name": "Python 3"
    },
    "language_info": {
      "name": "python"
    }
  },
  "cells": [
    {
      "cell_type": "markdown",
      "metadata": {
        "id": "view-in-github",
        "colab_type": "text"
      },
      "source": [
        "<a href=\"https://colab.research.google.com/github/FredericoSRamos/Projeto-IA-Alura-Google/blob/main/Projeto.ipynb\" target=\"_parent\"><img src=\"https://colab.research.google.com/assets/colab-badge.svg\" alt=\"Open In Colab\"/></a>"
      ]
    },
    {
      "cell_type": "code",
      "execution_count": null,
      "metadata": {
        "id": "kCPhgr-JDlTW"
      },
      "outputs": [],
      "source": [
        "#!pip install -q -U google-generativeai\n",
        "#!pip install pytube\n",
        "#!pip install assemblyai\n",
        "\n",
        "import google.generativeai as genai\n",
        "import assemblyai as aai\n",
        "import pandas as pd\n",
        "import numpy as np\n",
        "\n",
        "from pytube import YouTube\n",
        "from google.colab import userdata\n",
        "\n",
        "genai.configure (api_key = userdata.get (\"SECRET-API-KEY\")) #Substituir pela própria API do Google AI Studio\n",
        "\n",
        "aai.settings.api_key = userdata.get (\"AAI-API-KEY\") #Substituir pela própria API do Assembly AI\n",
        "transcriber = aai.Transcriber (config = aai.TranscriptionConfig (language_code = \"pt\"))\n",
        "\n",
        "def download (link):\n",
        "  yt = YouTube (link)\n",
        "  audio = yt.streams.get_audio_only ()\n",
        "  return audio.download ()\n",
        "\n",
        "def transcribe_audio (file):\n",
        "  transcript = transcriber.transcribe (file)\n",
        "  return transcript.text\n",
        "\n",
        "def embed_fn (text):\n",
        "  return genai.embed_content (model = \"models/embedding-001\",\n",
        "                              content = text,\n",
        "                              task_type = \"SEMANTIC_SIMILARITY\")[\"embedding\"]\n",
        "\n",
        "def interpret_fn (text):\n",
        "  response = genai.GenerativeModel (\"models/gemini-1.5-pro-latest\").generate_content (f\"Interprete esse texto:\\n{text}\")\n",
        "  return response.text\n",
        "\n",
        "def video_relacionado (consulta, df):\n",
        "  embedding_consulta = embed_fn (consulta)\n",
        "  produtos_escalares = np.dot (np.stack (df[\"Embeddings\"]), embedding_consulta)\n",
        "  indice = np.argmax (produtos_escalares)\n",
        "  return df.iloc [indice]\n",
        "\n",
        "data = []\n",
        "\n",
        "while True:\n",
        "  link = input (\"Digite o link do vídeo (ou 'fim' para encerrar):\")\n",
        "  if link.lower () == \"fim\":\n",
        "    break\n",
        "\n",
        "  try:\n",
        "    audio_file = download (link)\n",
        "  except:\n",
        "    print (\"Um erro aconteceu ao tentar baixar esse vídeo\\n\")\n",
        "    continue\n",
        "\n",
        "  try:\n",
        "    transcript = transcribe_audio (audio_file)\n",
        "  except:\n",
        "    print (\"Um erro aconteceu ao tentar transcrever esse vídeo\\n\")\n",
        "    continue\n",
        "\n",
        "  data.append({\n",
        "              \"Titulo\": audio_file.split(\"/\")[-1].removesuffix(\".mp4\"),\n",
        "              \"Link\": link,\n",
        "              \"Transcrição\": transcript,\n",
        "              \"Interpretação\": interpret_fn (transcript),\n",
        "              \"Embeddings\": embed_fn (transcript)})\n",
        "\n",
        "df = pd.DataFrame (data)\n",
        "\n",
        "while True:\n",
        "  consulta = input (\"Digite uma entrada para consultar (ou 'fim' para encerrar):\")\n",
        "  if consulta.lower () == \"fim\":\n",
        "    break\n",
        "\n",
        "  video = video_relacionado (consulta, df)\n",
        "\n",
        "  print (\"Vídeo relacionado:\")\n",
        "  video"
      ]
    }
  ]
}